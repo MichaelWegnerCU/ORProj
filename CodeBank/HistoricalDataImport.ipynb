{
 "cells": [
  {
   "cell_type": "code",
   "execution_count": null,
   "metadata": {},
   "outputs": [],
   "source": [
    "import pandas as pd \n",
    "import numpy as np \n",
    "\n",
    "Price_2016_df = pd.read_csv(\"../Data/Historical/prices_2016.csv\")\n",
    "##Removing the company \"WY\" which only appears in the 2016 data set\n",
    "Price_2016_df = Price_2016_df[Price_2016_df.symbol != \"WY\"]\n",
    "\n",
    "Price_2017_df = pd.read_csv(\"../Data/Historical/prices_2017.csv\")\n",
    "Price_2018_df = pd.read_csv(\"../Data/Historical/prices_2018.csv\")\n",
    "\n",
    "known_tickers=Price_2016_df.symbol.unique()\n",
    "\n",
    "ticker_2016 ={}\n",
    "ticker_2017 ={}\n",
    "ticker_2018 ={}\n",
    "for t in known_tickers:\n",
    "    ticker_2016[t] = Price_2016_df.loc[Price_2016_df['symbol'] == t]\n",
    "    ticker_2017[t] = Price_2017_df.loc[Price_2017_df['symbol'] == t]\n",
    "    ticker_2018[t] = Price_2018_df.loc[Price_2018_df['symbol'] == t]\n",
    "    \n",
    "All_Tickers={}\n",
    "for t in known_tickers:\n",
    "    All_Tickers[t]=pd.concat([ticker_2016[t], ticker_2017[t],ticker_2018[t]], ignore_index=True, sort=False)\n",
    "    \n",
    "print(dict(list(All_Tickers.items())[0:2]))"
   ]
  },
  {
   "cell_type": "code",
   "execution_count": null,
   "metadata": {},
   "outputs": [],
   "source": []
  }
 ],
 "metadata": {
  "kernelspec": {
   "display_name": "Python 3",
   "language": "python",
   "name": "python3"
  },
  "language_info": {
   "codemirror_mode": {
    "name": "ipython",
    "version": 3
   },
   "file_extension": ".py",
   "mimetype": "text/x-python",
   "name": "python",
   "nbconvert_exporter": "python",
   "pygments_lexer": "ipython3",
   "version": "3.6.5"
  }
 },
 "nbformat": 4,
 "nbformat_minor": 2
}
