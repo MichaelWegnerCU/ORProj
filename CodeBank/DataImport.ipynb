{
 "cells": [
  {
   "cell_type": "code",
   "execution_count": 20,
   "metadata": {},
   "outputs": [
    {
     "name": "stdout",
     "output_type": "stream",
     "text": [
      "  symbol                company    weight                  sector  \\\n",
      "0   MSFT  Microsoft Corporation  0.038316  Information Technology   \n",
      "1   MSFT  Microsoft Corporation  0.038316  Information Technology   \n",
      "2   MSFT  Microsoft Corporation  0.038316  Information Technology   \n",
      "3   MSFT  Microsoft Corporation  0.038316  Information Technology   \n",
      "4   MSFT  Microsoft Corporation  0.038316  Information Technology   \n",
      "\n",
      "   shares_held        date       open       high        low      close  \\\n",
      "0     86145210  2016-01-04  54.320000  54.799999  53.389999  54.799999   \n",
      "1     86145210  2016-01-05  54.930000  55.389999  54.540001  55.049999   \n",
      "2     86145210  2016-01-06  54.320000  54.400002  53.639999  54.049999   \n",
      "3     86145210  2016-01-07  52.700001  53.490002  52.070000  52.169998   \n",
      "4     86145210  2016-01-08  52.369999  53.279999  52.150002  52.330002   \n",
      "\n",
      "       volume   adjusted  \n",
      "0  53778000.0  51.065639  \n",
      "1  34079700.0  51.298611  \n",
      "2  39518900.0  50.366753  \n",
      "3  56564900.0  48.614864  \n",
      "4  48754000.0  48.763962  \n",
      "  symbol                company    weight                  sector  \\\n",
      "0   MSFT  Microsoft Corporation  0.038316  Information Technology   \n",
      "1   MSFT  Microsoft Corporation  0.038316  Information Technology   \n",
      "2   MSFT  Microsoft Corporation  0.038316  Information Technology   \n",
      "3   MSFT  Microsoft Corporation  0.038316  Information Technology   \n",
      "4   MSFT  Microsoft Corporation  0.038316  Information Technology   \n",
      "\n",
      "   shares_held        date       open       high        low      close  \\\n",
      "0     86145210  2017-01-03  62.790001  62.840000  62.130001  62.580002   \n",
      "1     86145210  2017-01-04  62.480000  62.750000  62.119999  62.299999   \n",
      "2     86145210  2017-01-05  62.189999  62.660000  62.029999  62.299999   \n",
      "3     86145210  2017-01-06  62.299999  63.150002  62.040001  62.840000   \n",
      "4     86145210  2017-01-09  62.759998  63.080002  62.540001  62.639999   \n",
      "\n",
      "       volume   adjusted  \n",
      "0  20694100.0  59.915661  \n",
      "1  21340000.0  59.647575  \n",
      "2  24876000.0  59.647575  \n",
      "3  19922900.0  60.164589  \n",
      "4  20256600.0  59.973103  \n",
      "  symbol                company    weight                  sector  \\\n",
      "0   MSFT  Microsoft Corporation  0.038316  Information Technology   \n",
      "1   MSFT  Microsoft Corporation  0.038316  Information Technology   \n",
      "2   MSFT  Microsoft Corporation  0.038316  Information Technology   \n",
      "3   MSFT  Microsoft Corporation  0.038316  Information Technology   \n",
      "4   MSFT  Microsoft Corporation  0.038316  Information Technology   \n",
      "\n",
      "   shares_held        date       open       high        low      close  \\\n",
      "0     86145210  2018-01-02  86.129997  86.309998  85.500000  85.949997   \n",
      "1     86145210  2018-01-03  86.059998  86.510002  85.970001  86.349998   \n",
      "2     86145210  2018-01-04  86.589996  87.660004  86.570000  87.110001   \n",
      "3     86145210  2018-01-05  87.660004  88.410004  87.430000  88.190002   \n",
      "4     86145210  2018-01-08  88.199997  88.580002  87.599998  88.279999   \n",
      "\n",
      "       volume   adjusted  \n",
      "0  22483800.0  84.128128  \n",
      "1  26061400.0  84.519646  \n",
      "2  21912000.0  85.263542  \n",
      "3  23407100.0  86.320648  \n",
      "4  22113000.0  86.408737  \n"
     ]
    }
   ],
   "source": [
    "import pandas as pd \n",
    "import numpy as np \n",
    "\n",
    "\n",
    "\n",
    "Price_2016_df = pd.read_csv(\"../Data/Historical/prices_2016.csv\")\n",
    "Price_2017_df = pd.read_csv(\"../Data/Historical/prices_2017.csv\")\n",
    "Price_2018_df = pd.read_csv(\"../Data/Historical/prices_2018.csv\")\n",
    "\n",
    "print(Price_2016_df.head())\n",
    "print(Price_2017_df.head())\n",
    "print(Price_2018_df.head())\n",
    "\n",
    "\n"
   ]
  },
  {
   "cell_type": "code",
   "execution_count": null,
   "metadata": {},
   "outputs": [],
   "source": []
  }
 ],
 "metadata": {
  "kernelspec": {
   "display_name": "Python 3",
   "language": "python",
   "name": "python3"
  },
  "language_info": {
   "codemirror_mode": {
    "name": "ipython",
    "version": 3
   },
   "file_extension": ".py",
   "mimetype": "text/x-python",
   "name": "python",
   "nbconvert_exporter": "python",
   "pygments_lexer": "ipython3",
   "version": "3.6.5"
  }
 },
 "nbformat": 4,
 "nbformat_minor": 2
}
